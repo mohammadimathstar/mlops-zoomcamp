{
 "cells": [
  {
   "cell_type": "code",
   "execution_count": null,
   "id": "969978d5",
   "metadata": {},
   "outputs": [
    {
     "name": "stdout",
     "output_type": "stream",
     "text": [
      "/workspaces/mlops-zoomcamp/02-experiment tracking\n"
     ]
    }
   ],
   "source": [
    "\n",
    "import os\n",
    "from pathlib import Path\n",
    "\n",
    "# Set the working directory to the location of the notebook\n",
    "notebook_dir = Path(os.getcwd()) / \"02-experiment tracking\"\n",
    "os.chdir(notebook_dir)\n",
    "\n",
    "print(os.getcwd())"
   ]
  },
  {
   "cell_type": "markdown",
   "id": "29241a3d",
   "metadata": {},
   "source": [
    "## Interacting with the MLflow tracking server\n",
    "\n",
    "The `MlflowClient` object allows us to interact with...\n",
    "- an MLflow Tracking Server that creates and manages experiments and runs.\n",
    "- an MLflow Registry Server that creates and manages registered models and model versions.\n",
    "\n",
    "To instantiate it we need to pass a tracking URI and/or a registry URI"
   ]
  },
  {
   "cell_type": "code",
   "execution_count": 9,
   "id": "cd494ca3",
   "metadata": {},
   "outputs": [
    {
     "name": "stdout",
     "output_type": "stream",
     "text": [
      "Name: my-cool-experiment, ID: 2\n",
      "Name: nyc-taxi-experiment, ID: 1\n",
      "Name: Default, ID: 0\n"
     ]
    }
   ],
   "source": [
    "from mlflow.tracking import MlflowClient\n",
    "\n",
    "MLFLOW_TRACKING_URI = \"sqlite:///mlflow.db\"\n",
    "\n",
    "client = MlflowClient(tracking_uri=MLFLOW_TRACKING_URI)\n",
    "\n",
    "# client.list_\n",
    "# return list of experiments\n",
    "experiments = client.search_experiments()\n",
    "\n",
    "for exp in experiments:\n",
    "    print(f\"Name: {exp.name}, ID: {exp.experiment_id}\")"
   ]
  },
  {
   "cell_type": "code",
   "execution_count": 8,
   "id": "ce5456a6",
   "metadata": {},
   "outputs": [
    {
     "name": "stdout",
     "output_type": "stream",
     "text": [
      "run id: e8e51c0c101948eab0fda8ec7a035943, rmse: 5.1065\n",
      "run id: 65a7096112cb41b693e557e8008cfa9c, rmse: 5.1126\n",
      "run id: e951c87d711843b680b409c58fdaf82a, rmse: 5.1126\n",
      "run id: 120ea98d1f4043baa2687410b5169389, rmse: 5.1195\n",
      "run id: 1e26342b34314a85b459910b6e37e640, rmse: 5.1448\n"
     ]
    }
   ],
   "source": [
    "# to create a new experiment\n",
    "# client.create_experiment(name=\"my-cool-experiment\")\n",
    "\n",
    "\n",
    "from mlflow.entities import ViewType\n",
    "\n",
    "# it returns runs fullfilling some contitions\n",
    "runs = client.search_runs(\n",
    "    experiment_ids='1',\n",
    "    filter_string=\"metrics.rmse < 6\", # only returns runs having lower values\n",
    "    run_view_type=ViewType.ACTIVE_ONLY, # only active runs (not deleted),  DELETED_ONLY: only deleted runs,  ALL: both active and deleted\n",
    "    max_results=5,\n",
    "    order_by=[\"metrics.rmse ASC\"] # order by rmse\n",
    ")\n",
    "\n",
    "for run in runs:\n",
    "    print(f\"run id: {run.info.run_id}, rmse: {run.data.metrics['rmse']:.4f}\")"
   ]
  },
  {
   "cell_type": "markdown",
   "id": "81dc2bd9",
   "metadata": {},
   "source": [
    "## Interacting with the Model Registry\n",
    "In this section We will use the `MlflowClient` instance to:\n",
    "\n",
    "1. Register a new version for the experiment nyc-taxi-regressor\n",
    "2. Retrieve the latests versions of the model nyc-taxi-regressor and check that a new version 4 was created.\n",
    "3. Transition the version 4 to \"Staging\" and adding annotations to it."
   ]
  },
  {
   "cell_type": "code",
   "execution_count": 10,
   "id": "2d245324",
   "metadata": {},
   "outputs": [],
   "source": [
    "import mlflow\n",
    "\n",
    "MLFLOW_TRACKING_URI = \"sqlite:///mlflow.db\"\n",
    "\n",
    "mlflow.set_tracking_uri(MLFLOW_TRACKING_URI)"
   ]
  },
  {
   "cell_type": "code",
   "execution_count": null,
   "id": "f7da7e1f",
   "metadata": {},
   "outputs": [
    {
     "name": "stderr",
     "output_type": "stream",
     "text": [
      "Registered model 'nyc-taxi-regressor' already exists. Creating a new version of this model...\n",
      "Created version '2' of model 'nyc-taxi-regressor'.\n"
     ]
    },
    {
     "data": {
      "text/plain": [
       "<ModelVersion: aliases=[], creation_timestamp=1747334183102, current_stage='None', description=None, last_updated_timestamp=1747334183102, name='nyc-taxi-regressor', run_id='4aa739211db94627b1744e36f4ee9664', run_link=None, source=('/workspaces/mlops-zoomcamp/02-experiment '\n",
       " 'tracking/mlruns/1/4aa739211db94627b1744e36f4ee9664/artifacts/model'), status='READY', status_message=None, tags={}, user_id=None, version=2>"
      ]
     },
     "execution_count": 12,
     "metadata": {},
     "output_type": "execute_result"
    }
   ],
   "source": [
    "model_name = \"nyc-taxi-regressor\"\n",
    "\n",
    "# register the best xgboost model\n",
    "run_id = \"65a7096112cb41b693e557e8008cfa9c\" # \n",
    "model_uri = f\"runs:/{run_id}/model\"\n",
    "mlflow.register_model(model_uri=model_uri, name=model_name)\n",
    "\n",
    "# register the best gradient boosting model\n",
    "run_id = \"4aa739211db94627b1744e36f4ee9664\" \n",
    "model_uri = f\"runs:/{run_id}/model\"\n",
    "mlflow.register_model(model_uri=model_uri, name=model_name)"
   ]
  },
  {
   "cell_type": "code",
   "execution_count": 16,
   "id": "8bc02f07",
   "metadata": {},
   "outputs": [
    {
     "name": "stderr",
     "output_type": "stream",
     "text": [
      "/tmp/ipykernel_10400/1125554250.py:4: FutureWarning: ``mlflow.tracking.client.MlflowClient.transition_model_version_stage`` is deprecated since 2.9.0. Model registry stages will be removed in a future major release. To learn more about the deprecation of model registry stages, see our migration guide here: https://mlflow.org/docs/latest/model-registry.html#migrating-from-stages\n",
      "  client.transition_model_version_stage(\n"
     ]
    },
    {
     "data": {
      "text/plain": [
       "<ModelVersion: aliases=[], creation_timestamp=1747334183102, current_stage='Staging', description=None, last_updated_timestamp=1747334693934, name='nyc-taxi-regressor', run_id='4aa739211db94627b1744e36f4ee9664', run_link=None, source=('/workspaces/mlops-zoomcamp/02-experiment '\n",
       " 'tracking/mlruns/1/4aa739211db94627b1744e36f4ee9664/artifacts/model'), status='READY', status_message=None, tags={'model': 'gradient boosting'}, user_id=None, version=2>"
      ]
     },
     "execution_count": 16,
     "metadata": {},
     "output_type": "execute_result"
    }
   ],
   "source": [
    "# to put a model in 'staging' stage\n",
    "model_version = 2\n",
    "new_stage = \"Staging\"\n",
    "client.transition_model_version_stage(\n",
    "    name=model_name,\n",
    "    version=model_version,\n",
    "    stage=new_stage,\n",
    "    archive_existing_versions=False\n",
    ")"
   ]
  },
  {
   "cell_type": "code",
   "execution_count": null,
   "id": "bc204aa2",
   "metadata": {},
   "outputs": [
    {
     "name": "stdout",
     "output_type": "stream",
     "text": [
      "version: 2, stage: Staging\n"
     ]
    },
    {
     "name": "stderr",
     "output_type": "stream",
     "text": [
      "/tmp/ipykernel_10400/2139987129.py:3: FutureWarning: ``mlflow.tracking.client.MlflowClient.get_latest_versions`` is deprecated since 2.9.0. Model registry stages will be removed in a future major release. To learn more about the deprecation of model registry stages, see our migration guide here: https://mlflow.org/docs/latest/model-registry.html#migrating-from-stages\n",
      "  latest_versions = client.get_latest_versions(name=model_name)\n"
     ]
    }
   ],
   "source": [
    "# to see the latest versions of models (in each stage separately)\n",
    "model_name = \"nyc-taxi-regressor\"\n",
    "latest_versions = client.get_latest_versions(name=model_name)\n",
    "\n",
    "for version in latest_versions:\n",
    "    print(f\"version: {version.version}, stage: {version.current_stage}\")"
   ]
  },
  {
   "cell_type": "code",
   "execution_count": 22,
   "id": "7fb2eb60",
   "metadata": {},
   "outputs": [
    {
     "name": "stderr",
     "output_type": "stream",
     "text": [
      "/tmp/ipykernel_10400/545672577.py:4: FutureWarning: ``mlflow.tracking.client.MlflowClient.transition_model_version_stage`` is deprecated since 2.9.0. Model registry stages will be removed in a future major release. To learn more about the deprecation of model registry stages, see our migration guide here: https://mlflow.org/docs/latest/model-registry.html#migrating-from-stages\n",
      "  client.transition_model_version_stage(\n"
     ]
    },
    {
     "data": {
      "text/plain": [
       "<ModelVersion: aliases=[], creation_timestamp=1747334183102, current_stage='Production', description=None, last_updated_timestamp=1747334948466, name='nyc-taxi-regressor', run_id='4aa739211db94627b1744e36f4ee9664', run_link=None, source=('/workspaces/mlops-zoomcamp/02-experiment '\n",
       " 'tracking/mlruns/1/4aa739211db94627b1744e36f4ee9664/artifacts/model'), status='READY', status_message=None, tags={'model': 'gradient boosting'}, user_id=None, version=2>"
      ]
     },
     "execution_count": 22,
     "metadata": {},
     "output_type": "execute_result"
    }
   ],
   "source": [
    "# to put a model in 'production' stage\n",
    "model_version = 2\n",
    "new_stage = \"Production\"\n",
    "client.transition_model_version_stage(\n",
    "    name=model_name,\n",
    "    version=model_version,\n",
    "    stage=new_stage,\n",
    "    archive_existing_versions=True\n",
    ")"
   ]
  },
  {
   "cell_type": "code",
   "execution_count": 23,
   "id": "df09eaa6",
   "metadata": {},
   "outputs": [
    {
     "name": "stdout",
     "output_type": "stream",
     "text": [
      "version: 1, stage: Archived\n",
      "version: 2, stage: Production\n"
     ]
    },
    {
     "name": "stderr",
     "output_type": "stream",
     "text": [
      "/tmp/ipykernel_10400/2139987129.py:3: FutureWarning: ``mlflow.tracking.client.MlflowClient.get_latest_versions`` is deprecated since 2.9.0. Model registry stages will be removed in a future major release. To learn more about the deprecation of model registry stages, see our migration guide here: https://mlflow.org/docs/latest/model-registry.html#migrating-from-stages\n",
      "  latest_versions = client.get_latest_versions(name=model_name)\n"
     ]
    }
   ],
   "source": [
    "# to see the latest versions of models\n",
    "model_name = \"nyc-taxi-regressor\"\n",
    "latest_versions = client.get_latest_versions(name=model_name)\n",
    "\n",
    "for version in latest_versions:\n",
    "    print(f\"version: {version.version}, stage: {version.current_stage}\")"
   ]
  },
  {
   "cell_type": "markdown",
   "id": "ce1b36e5",
   "metadata": {},
   "source": [
    "#### update description\n",
    "\n",
    "The following updates the description of a specific model version in the MLflow Model Registry.\n",
    "\n",
    "- It’s purely metadata — it doesn’t change the stage or performance of the model, but is useful for tracking actions and auditability."
   ]
  },
  {
   "cell_type": "code",
   "execution_count": 24,
   "id": "ad461e7d",
   "metadata": {},
   "outputs": [
    {
     "data": {
      "text/plain": [
       "<ModelVersion: aliases=[], creation_timestamp=1747334183102, current_stage='Production', description='The model version 2 was transitioned to Production on 2025-05-15', last_updated_timestamp=1747335460608, name='nyc-taxi-regressor', run_id='4aa739211db94627b1744e36f4ee9664', run_link=None, source=('/workspaces/mlops-zoomcamp/02-experiment '\n",
       " 'tracking/mlruns/1/4aa739211db94627b1744e36f4ee9664/artifacts/model'), status='READY', status_message=None, tags={'model': 'gradient boosting'}, user_id=None, version=2>"
      ]
     },
     "execution_count": 24,
     "metadata": {},
     "output_type": "execute_result"
    }
   ],
   "source": [
    "from datetime import datetime\n",
    "\n",
    "date = datetime.today().date()\n",
    "client.update_model_version(\n",
    "    name=model_name,\n",
    "    version=2,\n",
    "    description=f\"The model version {model_version} was transitioned to {new_stage} on {date}\"\n",
    ")"
   ]
  },
  {
   "cell_type": "code",
   "execution_count": null,
   "id": "38536a48",
   "metadata": {},
   "outputs": [],
   "source": []
  }
 ],
 "metadata": {
  "kernelspec": {
   "display_name": "Python 3 (ipykernel)",
   "language": "python",
   "name": "python3"
  },
  "language_info": {
   "codemirror_mode": {
    "name": "ipython",
    "version": 3
   },
   "file_extension": ".py",
   "mimetype": "text/x-python",
   "name": "python",
   "nbconvert_exporter": "python",
   "pygments_lexer": "ipython3",
   "version": "3.12.1"
  }
 },
 "nbformat": 4,
 "nbformat_minor": 5
}
