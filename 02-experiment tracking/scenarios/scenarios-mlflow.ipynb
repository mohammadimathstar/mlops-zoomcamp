{
 "cells": [
  {
   "cell_type": "markdown",
   "id": "3a488be8",
   "metadata": {},
   "source": [
    "# Different scenarios for using MLflow\n",
    "\n",
    "__Scenario 1.__ A single data scientist participating in an ML competition\n",
    "\n",
    "__Scenario 2.__ A cross-functional team working with a single data scientist on an ML model\n",
    "\n",
    "__Scenario 3.__ Multiple data scientists working on multiple ML models\n",
    "\n"
   ]
  },
  {
   "cell_type": "markdown",
   "id": "abf46c67",
   "metadata": {},
   "source": [
    "## Scenario 1.\n",
    "\n",
    "She does not need to share her runs with other\n",
    "\n",
    "- Local tracking server is enough. Does not need a remote tracking server \n",
    "- Using model registry is useless. DS is not interested in deploying model in production\n",
    "\n",
    "MLflow setup:\n",
    "\n",
    "- Tracking server: no\n",
    "- Backend store: local filesystem\n",
    "- Artifacts store: local filesystem\n",
    "\n",
    "The experiments can be explored locally by launching the MLflow UI.\n"
   ]
  },
  {
   "cell_type": "code",
   "execution_count": 1,
   "id": "0e1f97e8",
   "metadata": {},
   "outputs": [],
   "source": [
    "import mlflow"
   ]
  },
  {
   "cell_type": "code",
   "execution_count": 2,
   "id": "0edf8496",
   "metadata": {},
   "outputs": [
    {
     "name": "stdout",
     "output_type": "stream",
     "text": [
      "tracking URI: 'file:///workspaces/mlops-zoomcamp/02-experiment%20tracking/mlruns'\n"
     ]
    }
   ],
   "source": [
    "# as we didnot specify tracking uri, it assumes you want to use your localfilesystem\n",
    "# i.e. 'mlruns' folder, to store artifacts and metadata about the experiment.\n",
    "# Note that for an experiments its info is saved in: mlruns/<exp_id>/<run_id>\n",
    "# the following, gives tracking uri\n",
    "print(f\"tracking URI: '{mlflow.get_tracking_uri()}'\")"
   ]
  },
  {
   "cell_type": "markdown",
   "id": "11c756b6",
   "metadata": {},
   "source": [
    "##### Creating an experiment and logging a new run"
   ]
  },
  {
   "cell_type": "code",
   "execution_count": 4,
   "id": "95aa120b",
   "metadata": {},
   "outputs": [
    {
     "name": "stderr",
     "output_type": "stream",
     "text": [
      "WARNING:root:Malformed experiment '1'. Detailed error Yaml file '/workspaces/mlops-zoomcamp/02-experiment tracking/mlruns/1/meta.yaml' does not exist.\n",
      "Traceback (most recent call last):\n",
      "  File \"/home/codespace/.python/current/lib/python3.12/site-packages/mlflow/store/tracking/file_store.py\", line 329, in search_experiments\n",
      "    exp = self._get_experiment(exp_id, view_type)\n",
      "          ^^^^^^^^^^^^^^^^^^^^^^^^^^^^^^^^^^^^^^^\n",
      "  File \"/home/codespace/.python/current/lib/python3.12/site-packages/mlflow/store/tracking/file_store.py\", line 427, in _get_experiment\n",
      "    meta = FileStore._read_yaml(experiment_dir, FileStore.META_DATA_FILE_NAME)\n",
      "           ^^^^^^^^^^^^^^^^^^^^^^^^^^^^^^^^^^^^^^^^^^^^^^^^^^^^^^^^^^^^^^^^^^^\n",
      "  File \"/home/codespace/.python/current/lib/python3.12/site-packages/mlflow/store/tracking/file_store.py\", line 1373, in _read_yaml\n",
      "    return _read_helper(root, file_name, attempts_remaining=retries)\n",
      "           ^^^^^^^^^^^^^^^^^^^^^^^^^^^^^^^^^^^^^^^^^^^^^^^^^^^^^^^^^\n",
      "  File \"/home/codespace/.python/current/lib/python3.12/site-packages/mlflow/store/tracking/file_store.py\", line 1366, in _read_helper\n",
      "    result = read_yaml(root, file_name)\n",
      "             ^^^^^^^^^^^^^^^^^^^^^^^^^^\n",
      "  File \"/home/codespace/.python/current/lib/python3.12/site-packages/mlflow/utils/file_utils.py\", line 310, in read_yaml\n",
      "    raise MissingConfigException(f\"Yaml file '{file_path}' does not exist.\")\n",
      "mlflow.exceptions.MissingConfigException: Yaml file '/workspaces/mlops-zoomcamp/02-experiment tracking/mlruns/1/meta.yaml' does not exist.\n"
     ]
    },
    {
     "name": "stderr",
     "output_type": "stream",
     "text": [
      "\u001b[31m2025/05/16 08:47:30 WARNING mlflow.models.model: Model logged without a signature and input example. Please set `input_example` parameter when logging the model to auto infer the model signature.\u001b[0m\n"
     ]
    },
    {
     "name": "stdout",
     "output_type": "stream",
     "text": [
      "default artifacts URI: 'file:///workspaces/mlops-zoomcamp/02-experiment%20tracking/mlruns/517005957011971498/ecaac0ca2b8c4439a5c0fc68038682e2/artifacts'\n"
     ]
    }
   ],
   "source": [
    "from sklearn.linear_model import LogisticRegression\n",
    "from sklearn.datasets import load_iris\n",
    "from sklearn.metrics import accuracy_score\n",
    "\n",
    "# we do not use sqlite: instead we use file system\n",
    "mlflow.set_experiment(\"scenario-1\")\n",
    "\n",
    "with mlflow.start_run():\n",
    "\n",
    "    X, y = load_iris(return_X_y=True)\n",
    "\n",
    "    params = {\"C\": 0.1, \"random_state\": 42}\n",
    "    mlflow.log_params(params)\n",
    "\n",
    "    lr = LogisticRegression(**params).fit(X, y)\n",
    "    y_pred = lr.predict(X)\n",
    "    mlflow.log_metric(\"accuracy\", accuracy_score(y, y_pred))\n",
    "\n",
    "    mlflow.sklearn.log_model(lr, artifact_path=\"models\")\n",
    "    print(f\"default artifacts URI: '{mlflow.get_artifact_uri()}'\")"
   ]
  },
  {
   "cell_type": "code",
   "execution_count": null,
   "id": "106fd4d4",
   "metadata": {},
   "outputs": [],
   "source": [
    "# mlflow.show_experiments()"
   ]
  },
  {
   "cell_type": "markdown",
   "id": "05409994",
   "metadata": {},
   "source": [
    "To explore the above models in browser, write the following in your terminal:\n",
    "- `mlflow ui`\n",
    "\n",
    "##### Interacting with the model registry"
   ]
  },
  {
   "cell_type": "code",
   "execution_count": null,
   "id": "fc921b43",
   "metadata": {},
   "outputs": [],
   "source": []
  },
  {
   "cell_type": "code",
   "execution_count": 6,
   "id": "3b4613dc",
   "metadata": {},
   "outputs": [],
   "source": [
    "from mlflow.tracking import MlflowClient\n",
    "\n",
    "\n",
    "client = MlflowClient()\n",
    "from mlflow.exceptions import MlflowException\n",
    "\n",
    "try:\n",
    "    client.search_registered_models()\n",
    "except MlflowException:\n",
    "    print(\"It's not possible to access the model registry :(\")"
   ]
  },
  {
   "cell_type": "code",
   "execution_count": null,
   "id": "7ab2b5db",
   "metadata": {},
   "outputs": [],
   "source": []
  },
  {
   "cell_type": "markdown",
   "id": "e765b135",
   "metadata": {},
   "source": [
    "## Scenario 2: A cross-functional team with one data scientist working on an ML model\n",
    "\n",
    "MLflow setup:\n",
    "\n",
    "- tracking server: yes, local server\n",
    "- backend store: sqlite database\n",
    "- artifacts store: local filesystem\n",
    "\n",
    "The experiments can be explored locally by accessing the local tracking server.\n",
    "\n",
    "To run this example you need to launch the mlflow server locally by running the following command in your terminal:\n",
    "\n",
    "`mlflow server --backend-store-uri sqlite:///backend.db --default-artifact-root ./artifacts_local`\n",
    "\n",
    "- this is not `uri` (this is an actual `server`)\n",
    "- the last parameter specifies the folder that artifacts will be saved.\n",
    "- note that `artifacts_local` only save the model,\n",
    "- the metadata, parameters, metrics, and so on will be saved in `backend.db` as a sqliteDB.\n",
    "\n",
    "__before running the next cell, you need to run the above line in your terminal__"
   ]
  },
  {
   "cell_type": "code",
   "execution_count": 7,
   "id": "b8b0fb54",
   "metadata": {},
   "outputs": [
    {
     "name": "stdout",
     "output_type": "stream",
     "text": [
      "tracking URI: 'http://127.0.0.1:5000'\n"
     ]
    }
   ],
   "source": [
    "import mlflow\n",
    "\n",
    "mlflow.set_tracking_uri(\"http://127.0.0.1:5000\")\n",
    "\n",
    "print(f\"tracking URI: '{mlflow.get_tracking_uri()}'\")"
   ]
  },
  {
   "cell_type": "code",
   "execution_count": 8,
   "id": "cdbba6ce",
   "metadata": {},
   "outputs": [
    {
     "data": {
      "text/plain": [
       "[<Experiment: artifact_location='/workspaces/mlops-zoomcamp/02-experiment tracking/scenarios/artifacts_local/0', creation_time=1747386695839, experiment_id='0', last_update_time=1747386695839, lifecycle_stage='active', name='Default', tags={}>]"
      ]
     },
     "execution_count": 8,
     "metadata": {},
     "output_type": "execute_result"
    }
   ],
   "source": [
    "mlflow.search_experiments()"
   ]
  },
  {
   "cell_type": "code",
   "execution_count": null,
   "id": "ff007e1f",
   "metadata": {},
   "outputs": [],
   "source": []
  },
  {
   "cell_type": "code",
   "execution_count": 9,
   "id": "cd85679b",
   "metadata": {},
   "outputs": [
    {
     "name": "stderr",
     "output_type": "stream",
     "text": [
      "2025/05/16 09:12:08 INFO mlflow.tracking.fluent: Experiment with name 'scenario-2' does not exist. Creating a new experiment.\n",
      "\u001b[31m2025/05/16 09:12:12 WARNING mlflow.models.model: Model logged without a signature and input example. Please set `input_example` parameter when logging the model to auto infer the model signature.\u001b[0m\n"
     ]
    },
    {
     "name": "stdout",
     "output_type": "stream",
     "text": [
      "default artifacts URI: '/workspaces/mlops-zoomcamp/02-experiment tracking/scenarios/artifacts_local/1/c241e5e16eff444196d4d0d403014dec/artifacts'\n",
      "🏃 View run persistent-trout-574 at: http://127.0.0.1:5000/#/experiments/1/runs/c241e5e16eff444196d4d0d403014dec\n",
      "🧪 View experiment at: http://127.0.0.1:5000/#/experiments/1\n"
     ]
    }
   ],
   "source": [
    "from sklearn.linear_model import LogisticRegression\n",
    "from sklearn.datasets import load_iris\n",
    "from sklearn.metrics import accuracy_score\n",
    "\n",
    "mlflow.set_experiment(\"scenario-2\")\n",
    "# mlflow.set_tracking_uri(\"sqlite:///mlflow.db\")\n",
    "\n",
    "with mlflow.start_run():\n",
    "\n",
    "    X, y = load_iris(return_X_y=True)\n",
    "\n",
    "    params = {\"C\": 0.1, \"random_state\": 42}\n",
    "    mlflow.log_params(params)\n",
    "\n",
    "    lr = LogisticRegression(**params).fit(X, y)\n",
    "    y_pred = lr.predict(X)\n",
    "    mlflow.log_metric(\"accuracy\", accuracy_score(y, y_pred))\n",
    "\n",
    "    mlflow.sklearn.log_model(lr, artifact_path=\"models\")\n",
    "    print(f\"default artifacts URI: '{mlflow.get_artifact_uri()}'\")"
   ]
  },
  {
   "cell_type": "code",
   "execution_count": 10,
   "id": "07071790",
   "metadata": {},
   "outputs": [
    {
     "data": {
      "text/plain": [
       "[<Experiment: artifact_location='/workspaces/mlops-zoomcamp/02-experiment tracking/scenarios/artifacts_local/1', creation_time=1747386728932, experiment_id='1', last_update_time=1747386728932, lifecycle_stage='active', name='scenario-2', tags={}>,\n",
       " <Experiment: artifact_location='/workspaces/mlops-zoomcamp/02-experiment tracking/scenarios/artifacts_local/0', creation_time=1747386695839, experiment_id='0', last_update_time=1747386695839, lifecycle_stage='active', name='Default', tags={}>]"
      ]
     },
     "execution_count": 10,
     "metadata": {},
     "output_type": "execute_result"
    }
   ],
   "source": [
    "mlflow.search_experiments()"
   ]
  },
  {
   "cell_type": "markdown",
   "id": "4ee08806",
   "metadata": {},
   "source": [
    "##### Interacting with the model registry"
   ]
  },
  {
   "cell_type": "code",
   "execution_count": 13,
   "id": "2e3e21f7",
   "metadata": {},
   "outputs": [],
   "source": [
    "from mlflow.tracking import MlflowClient\n",
    "\n",
    "\n",
    "client = MlflowClient(\"http://127.0.0.1:5000\")"
   ]
  },
  {
   "cell_type": "code",
   "execution_count": 14,
   "id": "683b68e2",
   "metadata": {},
   "outputs": [
    {
     "data": {
      "text/plain": [
       "[]"
      ]
     },
     "execution_count": 14,
     "metadata": {},
     "output_type": "execute_result"
    }
   ],
   "source": [
    "client.search_registered_models()"
   ]
  },
  {
   "cell_type": "code",
   "execution_count": 15,
   "id": "80da6c5b",
   "metadata": {},
   "outputs": [
    {
     "name": "stdout",
     "output_type": "stream",
     "text": [
      "Run ID: c241e5e16eff444196d4d0d403014dec\n"
     ]
    }
   ],
   "source": [
    "# # Search runs in a specific experiment (by ID)\n",
    "runs = client.search_runs(\n",
    "    experiment_ids=[\"1\"],             # Can be a list of one or more experiment IDs\n",
    "    filter_string=\"\",                 # Optional: filter by metrics, params, etc.\n",
    "    order_by=[\"attributes.start_time DESC\"],  # Sort by most recent\n",
    "    max_results=5                     # Limit number of runs returned\n",
    ")\n",
    "\n",
    "# Print run IDs\n",
    "for run in runs:\n",
    "    print(f\"Run ID: {run.info.run_id}\")"
   ]
  },
  {
   "cell_type": "code",
   "execution_count": 16,
   "id": "d670a33c",
   "metadata": {},
   "outputs": [
    {
     "name": "stderr",
     "output_type": "stream",
     "text": [
      "Successfully registered model 'iris-classifier'.\n",
      "2025/05/16 09:16:10 INFO mlflow.store.model_registry.abstract_store: Waiting up to 300 seconds for model version to finish creation. Model name: iris-classifier, version 1\n",
      "Created version '1' of model 'iris-classifier'.\n"
     ]
    },
    {
     "data": {
      "text/plain": [
       "<ModelVersion: aliases=[], creation_timestamp=1747386970635, current_stage='None', description='', last_updated_timestamp=1747386970635, name='iris-classifier', run_id='c241e5e16eff444196d4d0d403014dec', run_link='', source=('/workspaces/mlops-zoomcamp/02-experiment '\n",
       " 'tracking/scenarios/artifacts_local/1/c241e5e16eff444196d4d0d403014dec/artifacts/models'), status='READY', status_message=None, tags={}, user_id='', version='1'>"
      ]
     },
     "execution_count": 16,
     "metadata": {},
     "output_type": "execute_result"
    }
   ],
   "source": [
    "run_id = 'c241e5e16eff444196d4d0d403014dec'\n",
    "mlflow.register_model(\n",
    "    model_uri=f\"runs:/{run_id}/models\",\n",
    "    name='iris-classifier'\n",
    ")"
   ]
  },
  {
   "cell_type": "code",
   "execution_count": 17,
   "id": "48d77fb6",
   "metadata": {},
   "outputs": [
    {
     "name": "stdout",
     "output_type": "stream",
     "text": [
      "version: 1, stage: None\n"
     ]
    },
    {
     "name": "stderr",
     "output_type": "stream",
     "text": [
      "/tmp/ipykernel_15284/1000551031.py:3: FutureWarning: ``mlflow.tracking.client.MlflowClient.get_latest_versions`` is deprecated since 2.9.0. Model registry stages will be removed in a future major release. To learn more about the deprecation of model registry stages, see our migration guide here: https://mlflow.org/docs/latest/model-registry.html#migrating-from-stages\n",
      "  latest_versions = client.get_latest_versions(name=model_name)\n"
     ]
    }
   ],
   "source": [
    "\n",
    "model_name = 'iris-classifier'\n",
    "\n",
    "latest_versions = client.get_latest_versions(name=model_name)\n",
    "\n",
    "for version in latest_versions:\n",
    "    print(f\"version: {version.version}, stage: {version.current_stage}\")"
   ]
  },
  {
   "cell_type": "code",
   "execution_count": 18,
   "id": "2fff01a4",
   "metadata": {},
   "outputs": [
    {
     "name": "stderr",
     "output_type": "stream",
     "text": [
      "/tmp/ipykernel_15284/998873863.py:3: FutureWarning: ``mlflow.tracking.client.MlflowClient.transition_model_version_stage`` is deprecated since 2.9.0. Model registry stages will be removed in a future major release. To learn more about the deprecation of model registry stages, see our migration guide here: https://mlflow.org/docs/latest/model-registry.html#migrating-from-stages\n",
      "  client.transition_model_version_stage(\n"
     ]
    },
    {
     "data": {
      "text/plain": [
       "<ModelVersion: aliases=[], creation_timestamp=1747386970635, current_stage='Staging', description='', last_updated_timestamp=1747387163698, name='iris-classifier', run_id='c241e5e16eff444196d4d0d403014dec', run_link='', source=('/workspaces/mlops-zoomcamp/02-experiment '\n",
       " 'tracking/scenarios/artifacts_local/1/c241e5e16eff444196d4d0d403014dec/artifacts/models'), status='READY', status_message=None, tags={}, user_id='', version='1'>"
      ]
     },
     "execution_count": 18,
     "metadata": {},
     "output_type": "execute_result"
    }
   ],
   "source": [
    "# to label the version as 'Staging' stage\n",
    "new_stage = 'Staging'\n",
    "client.transition_model_version_stage(\n",
    "    name=model_name,\n",
    "    version=1,\n",
    "    stage=new_stage,\n",
    "    archive_existing_versions=True\n",
    ")"
   ]
  },
  {
   "cell_type": "code",
   "execution_count": 19,
   "id": "cf32b29e",
   "metadata": {},
   "outputs": [
    {
     "name": "stdout",
     "output_type": "stream",
     "text": [
      "version: 1, stage: Staging\n"
     ]
    },
    {
     "name": "stderr",
     "output_type": "stream",
     "text": [
      "/tmp/ipykernel_15284/232761966.py:1: FutureWarning: ``mlflow.tracking.client.MlflowClient.get_latest_versions`` is deprecated since 2.9.0. Model registry stages will be removed in a future major release. To learn more about the deprecation of model registry stages, see our migration guide here: https://mlflow.org/docs/latest/model-registry.html#migrating-from-stages\n",
      "  latest_versions = client.get_latest_versions(name=model_name)\n"
     ]
    }
   ],
   "source": [
    "latest_versions = client.get_latest_versions(name=model_name)\n",
    "\n",
    "for version in latest_versions:\n",
    "    print(f\"version: {version.version}, stage: {version.current_stage}\")"
   ]
  },
  {
   "cell_type": "markdown",
   "id": "939560fc",
   "metadata": {},
   "source": [
    "## Scenario 3: Multiple data scientists working on multiple ML models\n",
    "\n",
    "MLflow setup:\n",
    "\n",
    "- Tracking server: yes, remote server (EC2). (I think it is for sharing info between DS and deployment engineer: registering, seeing staging, production etc.)\n",
    "- Backend store: postgresql database. (to store metadata, metrics, parameters, etc)\n",
    "- Artifacts store: s3 bucket. (to store models)\n",
    "\n",
    "The experiments can be explored by accessing the remote server.\n",
    "\n",
    "The example uses AWS to host a remote server. In order to run the example you'll need an AWS account. Follow the steps described in the file `mlflow_on_aws.md` to create a new AWS account and launch the tracking server."
   ]
  },
  {
   "cell_type": "code",
   "execution_count": null,
   "id": "417dada2",
   "metadata": {},
   "outputs": [],
   "source": [
    "import mlflow\n",
    "from azureml.core import Workspace\n",
    "from azureml.core.authentication import InteractiveLoginAuthentication\n",
    "from sklearn.linear_model import LogisticRegression\n",
    "from sklearn.datasets import load_iris\n",
    "from sklearn.metrics import accuracy_score\n",
    "from mlflow.tracking import MlflowClient\n"
   ]
  },
  {
   "cell_type": "code",
   "execution_count": null,
   "id": "79f99fa5",
   "metadata": {},
   "outputs": [],
   "source": [
    "# 1. Authenticate to Azure\n",
    "interactive_auth = InteractiveLoginAuthentication()\n",
    "\n",
    "# 2. Connect to your Azure ML Workspace\n",
    "ws = Workspace(\n",
    "    subscription_id=\"your-subscription-id\",\n",
    "    resource_group=\"your-resource-group\",\n",
    "    workspace_name=\"your-workspace-name\",\n",
    "    auth=interactive_auth\n",
    ")\n",
    "\n",
    "# 3. Set the MLflow tracking URI to Azure ML\n",
    "mlflow.set_tracking_uri(ws.get_mlflow_tracking_uri())\n",
    "print(f\"Tracking URI: {mlflow.get_tracking_uri()}\")\n"
   ]
  },
  {
   "cell_type": "code",
   "execution_count": null,
   "id": "c37df47e",
   "metadata": {},
   "outputs": [],
   "source": [
    "# 4. Set experiment\n",
    "mlflow.set_experiment(\"my-experiment-1\")\n",
    "\n",
    "# 5. Train and log a model\n",
    "with mlflow.start_run() as run:\n",
    "    X, y = load_iris(return_X_y=True)\n",
    "\n",
    "    params = {\"C\": 0.1, \"random_state\": 42}\n",
    "    mlflow.log_params(params)\n",
    "\n",
    "    lr = LogisticRegression(**params).fit(X, y)\n",
    "    y_pred = lr.predict(X)\n",
    "    mlflow.log_metric(\"accuracy\", accuracy_score(y, y_pred))\n",
    "\n",
    "    # Log model to MLflow\n",
    "    mlflow.sklearn.log_model(lr, artifact_path=\"models\")\n",
    "    print(f\"Artifacts URI: {mlflow.get_artifact_uri()}\")\n",
    "\n",
    "    run_id = run.info.run_id"
   ]
  },
  {
   "cell_type": "code",
   "execution_count": null,
   "id": "343cff30",
   "metadata": {},
   "outputs": [],
   "source": [
    "# 6. Register the model in Azure ML Model Registry\n",
    "result = mlflow.register_model(\n",
    "    model_uri=f\"runs:/{run_id}/models\",\n",
    "    name=\"iris-classifier\"\n",
    ")"
   ]
  },
  {
   "cell_type": "code",
   "execution_count": null,
   "id": "349add3f",
   "metadata": {},
   "outputs": [],
   "source": [
    "# 7. (Optional) Transition the model to \"Production\"\n",
    "client = MlflowClient()\n",
    "client.transition_model_version_stage(\n",
    "    name=\"iris-classifier\",\n",
    "    version=result.version,\n",
    "    stage=\"Production\",\n",
    "    archive_existing_versions=True\n",
    ")\n",
    "\n",
    "print(f\"Model 'iris-classifier' version {result.version} is now in Production.\")"
   ]
  },
  {
   "cell_type": "code",
   "execution_count": null,
   "id": "c97315d1",
   "metadata": {},
   "outputs": [],
   "source": []
  },
  {
   "cell_type": "code",
   "execution_count": null,
   "id": "e1e8e54f",
   "metadata": {},
   "outputs": [],
   "source": []
  }
 ],
 "metadata": {
  "kernelspec": {
   "display_name": "Python 3",
   "language": "python",
   "name": "python3"
  },
  "language_info": {
   "codemirror_mode": {
    "name": "ipython",
    "version": 3
   },
   "file_extension": ".py",
   "mimetype": "text/x-python",
   "name": "python",
   "nbconvert_exporter": "python",
   "pygments_lexer": "ipython3",
   "version": "3.12.1"
  }
 },
 "nbformat": 4,
 "nbformat_minor": 5
}
