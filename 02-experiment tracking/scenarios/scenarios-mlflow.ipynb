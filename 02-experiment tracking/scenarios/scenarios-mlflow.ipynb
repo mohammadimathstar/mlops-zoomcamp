{
 "cells": [
  {
   "cell_type": "markdown",
   "id": "3a488be8",
   "metadata": {},
   "source": [
    "# Different scenarios for using MLflow\n",
    "\n",
    "__Scenario 1.__ A single data scientist participating in an ML competition\n",
    "\n",
    "__Scenario 2.__ A cross-functional team working with a single data scientist on an ML model\n",
    "\n",
    "__Scenario 3.__ Multiple data scientists working on multiple ML models\n",
    "\n"
   ]
  },
  {
   "cell_type": "markdown",
   "id": "abf46c67",
   "metadata": {},
   "source": [
    "## Scenario 1.\n",
    "\n",
    "She does not need to share her runs with other\n",
    "\n",
    "- Local tracking server is enough. Does not need a remote tracking server \n",
    "- Using model registry is useless. DS is not interested in deploying model in production\n",
    "\n",
    "MLflow setup:\n",
    "\n",
    "- Tracking server: no\n",
    "- Backend store: local filesystem\n",
    "- Artifacts store: local filesystem\n",
    "\n",
    "The experiments can be explored locally by launching the MLflow UI.\n"
   ]
  },
  {
   "cell_type": "code",
   "execution_count": 1,
   "id": "0e1f97e8",
   "metadata": {},
   "outputs": [],
   "source": [
    "import mlflow"
   ]
  },
  {
   "cell_type": "code",
   "execution_count": null,
   "id": "0edf8496",
   "metadata": {},
   "outputs": [
    {
     "name": "stdout",
     "output_type": "stream",
     "text": [
      "tracking URI: 'sqlite:///mlflow.db'\n"
     ]
    },
    {
     "data": {
      "text/plain": [
       "<Experiment: artifact_location='/workspaces/mlops-zoomcamp/02-experiment tracking/mlruns/1', creation_time=1747168400782, experiment_id='1', last_update_time=1747168400782, lifecycle_stage='active', name='nyc-taxi-experiment', tags={}>"
      ]
     },
     "execution_count": 12,
     "metadata": {},
     "output_type": "execute_result"
    }
   ],
   "source": [
    "# as we didnot specify tracking uri, it assumes you want to use your localfilesystem\n",
    "# i.e. 'mlruns' folder, to store artifacts and metadata about the experiment.\n",
    "# Note that for an experiments its info is saved in: mlruns/<exp_id>/<run_id>\n",
    "# the following, gives tracking uri\n",
    "print(f\"tracking URI: '{mlflow.get_tracking_uri()}'\")"
   ]
  },
  {
   "cell_type": "markdown",
   "id": "11c756b6",
   "metadata": {},
   "source": [
    "##### Creating an experiment and logging a new run"
   ]
  },
  {
   "cell_type": "code",
   "execution_count": null,
   "id": "95aa120b",
   "metadata": {},
   "outputs": [
    {
     "ename": "MissingConfigException",
     "evalue": "Yaml file '/workspaces/mlops-zoomcamp/02-experiment tracking/mlruns/1/meta.yaml' does not exist.",
     "output_type": "error",
     "traceback": [
      "\u001b[31m---------------------------------------------------------------------------\u001b[39m",
      "\u001b[31mMissingConfigException\u001b[39m                    Traceback (most recent call last)",
      "\u001b[36mCell\u001b[39m\u001b[36m \u001b[39m\u001b[32mIn[10]\u001b[39m\u001b[32m, line 1\u001b[39m\n\u001b[32m----> \u001b[39m\u001b[32m1\u001b[39m \u001b[43mmlflow\u001b[49m\u001b[43m.\u001b[49m\u001b[43mget_experiment\u001b[49m\u001b[43m(\u001b[49m\u001b[33;43m'\u001b[39;49m\u001b[33;43m1\u001b[39;49m\u001b[33;43m'\u001b[39;49m\u001b[43m)\u001b[49m\n",
      "\u001b[36mFile \u001b[39m\u001b[32m~/.python/current/lib/python3.12/site-packages/mlflow/tracking/fluent.py:1641\u001b[39m, in \u001b[36mget_experiment\u001b[39m\u001b[34m(experiment_id)\u001b[39m\n\u001b[32m   1610\u001b[39m \u001b[38;5;28;01mdef\u001b[39;00m\u001b[38;5;250m \u001b[39m\u001b[34mget_experiment\u001b[39m(experiment_id: \u001b[38;5;28mstr\u001b[39m) -> Experiment:\n\u001b[32m   1611\u001b[39m \u001b[38;5;250m    \u001b[39m\u001b[33;03m\"\"\"Retrieve an experiment by experiment_id from the backend store\u001b[39;00m\n\u001b[32m   1612\u001b[39m \n\u001b[32m   1613\u001b[39m \u001b[33;03m    Args:\u001b[39;00m\n\u001b[32m   (...)\u001b[39m\u001b[32m   1639\u001b[39m \u001b[33;03m        Creation timestamp: 1662004217511\u001b[39;00m\n\u001b[32m   1640\u001b[39m \u001b[33;03m    \"\"\"\u001b[39;00m\n\u001b[32m-> \u001b[39m\u001b[32m1641\u001b[39m     \u001b[38;5;28;01mreturn\u001b[39;00m \u001b[43mMlflowClient\u001b[49m\u001b[43m(\u001b[49m\u001b[43m)\u001b[49m\u001b[43m.\u001b[49m\u001b[43mget_experiment\u001b[49m\u001b[43m(\u001b[49m\u001b[43mexperiment_id\u001b[49m\u001b[43m)\u001b[49m\n",
      "\u001b[36mFile \u001b[39m\u001b[32m~/.python/current/lib/python3.12/site-packages/mlflow/tracking/client.py:1669\u001b[39m, in \u001b[36mMlflowClient.get_experiment\u001b[39m\u001b[34m(self, experiment_id)\u001b[39m\n\u001b[32m   1637\u001b[39m \u001b[38;5;28;01mdef\u001b[39;00m\u001b[38;5;250m \u001b[39m\u001b[34mget_experiment\u001b[39m(\u001b[38;5;28mself\u001b[39m, experiment_id: \u001b[38;5;28mstr\u001b[39m) -> Experiment:\n\u001b[32m   1638\u001b[39m \u001b[38;5;250m    \u001b[39m\u001b[33;03m\"\"\"Retrieve an experiment by experiment_id from the backend store\u001b[39;00m\n\u001b[32m   1639\u001b[39m \n\u001b[32m   1640\u001b[39m \u001b[33;03m    Args:\u001b[39;00m\n\u001b[32m   (...)\u001b[39m\u001b[32m   1667\u001b[39m \u001b[33;03m      Lifecycle_stage: active\u001b[39;00m\n\u001b[32m   1668\u001b[39m \u001b[33;03m    \"\"\"\u001b[39;00m\n\u001b[32m-> \u001b[39m\u001b[32m1669\u001b[39m     \u001b[38;5;28;01mreturn\u001b[39;00m \u001b[38;5;28;43mself\u001b[39;49m\u001b[43m.\u001b[49m\u001b[43m_tracking_client\u001b[49m\u001b[43m.\u001b[49m\u001b[43mget_experiment\u001b[49m\u001b[43m(\u001b[49m\u001b[43mexperiment_id\u001b[49m\u001b[43m)\u001b[49m\n",
      "\u001b[36mFile \u001b[39m\u001b[32m~/.python/current/lib/python3.12/site-packages/mlflow/tracking/_tracking_service/client.py:581\u001b[39m, in \u001b[36mTrackingServiceClient.get_experiment\u001b[39m\u001b[34m(self, experiment_id)\u001b[39m\n\u001b[32m    573\u001b[39m \u001b[38;5;28;01mdef\u001b[39;00m\u001b[38;5;250m \u001b[39m\u001b[34mget_experiment\u001b[39m(\u001b[38;5;28mself\u001b[39m, experiment_id):\n\u001b[32m    574\u001b[39m \u001b[38;5;250m    \u001b[39m\u001b[33;03m\"\"\"\u001b[39;00m\n\u001b[32m    575\u001b[39m \u001b[33;03m    Args:\u001b[39;00m\n\u001b[32m    576\u001b[39m \u001b[33;03m        experiment_id: The experiment ID returned from ``create_experiment``.\u001b[39;00m\n\u001b[32m   (...)\u001b[39m\u001b[32m    579\u001b[39m \u001b[33;03m        :py:class:`mlflow.entities.Experiment`\u001b[39;00m\n\u001b[32m    580\u001b[39m \u001b[33;03m    \"\"\"\u001b[39;00m\n\u001b[32m--> \u001b[39m\u001b[32m581\u001b[39m     \u001b[38;5;28;01mreturn\u001b[39;00m \u001b[38;5;28;43mself\u001b[39;49m\u001b[43m.\u001b[49m\u001b[43mstore\u001b[49m\u001b[43m.\u001b[49m\u001b[43mget_experiment\u001b[49m\u001b[43m(\u001b[49m\u001b[43mexperiment_id\u001b[49m\u001b[43m)\u001b[49m\n",
      "\u001b[36mFile \u001b[39m\u001b[32m~/.python/current/lib/python3.12/site-packages/mlflow/store/tracking/file_store.py:453\u001b[39m, in \u001b[36mFileStore.get_experiment\u001b[39m\u001b[34m(self, experiment_id)\u001b[39m\n\u001b[32m    442\u001b[39m \u001b[38;5;250m\u001b[39m\u001b[33;03m\"\"\"\u001b[39;00m\n\u001b[32m    443\u001b[39m \u001b[33;03mFetch the experiment.\u001b[39;00m\n\u001b[32m    444\u001b[39m \u001b[33;03mNote: This API will search for active as well as deleted experiments.\u001b[39;00m\n\u001b[32m   (...)\u001b[39m\u001b[32m    450\u001b[39m \u001b[33;03m    A single Experiment object if it exists, otherwise raises an Exception.\u001b[39;00m\n\u001b[32m    451\u001b[39m \u001b[33;03m\"\"\"\u001b[39;00m\n\u001b[32m    452\u001b[39m experiment_id = FileStore.DEFAULT_EXPERIMENT_ID \u001b[38;5;28;01mif\u001b[39;00m experiment_id \u001b[38;5;129;01mis\u001b[39;00m \u001b[38;5;28;01mNone\u001b[39;00m \u001b[38;5;28;01melse\u001b[39;00m experiment_id\n\u001b[32m--> \u001b[39m\u001b[32m453\u001b[39m experiment = \u001b[38;5;28;43mself\u001b[39;49m\u001b[43m.\u001b[49m\u001b[43m_get_experiment\u001b[49m\u001b[43m(\u001b[49m\u001b[43mexperiment_id\u001b[49m\u001b[43m)\u001b[49m\n\u001b[32m    454\u001b[39m \u001b[38;5;28;01mif\u001b[39;00m experiment \u001b[38;5;129;01mis\u001b[39;00m \u001b[38;5;28;01mNone\u001b[39;00m:\n\u001b[32m    455\u001b[39m     \u001b[38;5;28;01mraise\u001b[39;00m MlflowException(\n\u001b[32m    456\u001b[39m         \u001b[33mf\u001b[39m\u001b[33m\"\u001b[39m\u001b[33mExperiment \u001b[39m\u001b[33m'\u001b[39m\u001b[38;5;132;01m{\u001b[39;00mexperiment_id\u001b[38;5;132;01m}\u001b[39;00m\u001b[33m'\u001b[39m\u001b[33m does not exist.\u001b[39m\u001b[33m\"\u001b[39m,\n\u001b[32m    457\u001b[39m         databricks_pb2.RESOURCE_DOES_NOT_EXIST,\n\u001b[32m    458\u001b[39m     )\n",
      "\u001b[36mFile \u001b[39m\u001b[32m~/.python/current/lib/python3.12/site-packages/mlflow/store/tracking/file_store.py:427\u001b[39m, in \u001b[36mFileStore._get_experiment\u001b[39m\u001b[34m(self, experiment_id, view_type)\u001b[39m\n\u001b[32m    422\u001b[39m \u001b[38;5;28;01mif\u001b[39;00m experiment_dir \u001b[38;5;129;01mis\u001b[39;00m \u001b[38;5;28;01mNone\u001b[39;00m:\n\u001b[32m    423\u001b[39m     \u001b[38;5;28;01mraise\u001b[39;00m MlflowException(\n\u001b[32m    424\u001b[39m         \u001b[33mf\u001b[39m\u001b[33m\"\u001b[39m\u001b[33mCould not find experiment with ID \u001b[39m\u001b[38;5;132;01m{\u001b[39;00mexperiment_id\u001b[38;5;132;01m}\u001b[39;00m\u001b[33m\"\u001b[39m,\n\u001b[32m    425\u001b[39m         databricks_pb2.RESOURCE_DOES_NOT_EXIST,\n\u001b[32m    426\u001b[39m     )\n\u001b[32m--> \u001b[39m\u001b[32m427\u001b[39m meta = \u001b[43mFileStore\u001b[49m\u001b[43m.\u001b[49m\u001b[43m_read_yaml\u001b[49m\u001b[43m(\u001b[49m\u001b[43mexperiment_dir\u001b[49m\u001b[43m,\u001b[49m\u001b[43m \u001b[49m\u001b[43mFileStore\u001b[49m\u001b[43m.\u001b[49m\u001b[43mMETA_DATA_FILE_NAME\u001b[49m\u001b[43m)\u001b[49m\n\u001b[32m    428\u001b[39m meta[\u001b[33m\"\u001b[39m\u001b[33mtags\u001b[39m\u001b[33m\"\u001b[39m] = \u001b[38;5;28mself\u001b[39m.get_all_experiment_tags(experiment_id)\n\u001b[32m    429\u001b[39m experiment = _read_persisted_experiment_dict(meta)\n",
      "\u001b[36mFile \u001b[39m\u001b[32m~/.python/current/lib/python3.12/site-packages/mlflow/store/tracking/file_store.py:1373\u001b[39m, in \u001b[36mFileStore._read_yaml\u001b[39m\u001b[34m(root, file_name, retries)\u001b[39m\n\u001b[32m   1370\u001b[39m         time.sleep(\u001b[32m0.1\u001b[39m * (\u001b[32m3\u001b[39m - attempts_remaining))\n\u001b[32m   1371\u001b[39m         \u001b[38;5;28;01mreturn\u001b[39;00m _read_helper(root, file_name, attempts_remaining - \u001b[32m1\u001b[39m)\n\u001b[32m-> \u001b[39m\u001b[32m1373\u001b[39m \u001b[38;5;28;01mreturn\u001b[39;00m \u001b[43m_read_helper\u001b[49m\u001b[43m(\u001b[49m\u001b[43mroot\u001b[49m\u001b[43m,\u001b[49m\u001b[43m \u001b[49m\u001b[43mfile_name\u001b[49m\u001b[43m,\u001b[49m\u001b[43m \u001b[49m\u001b[43mattempts_remaining\u001b[49m\u001b[43m=\u001b[49m\u001b[43mretries\u001b[49m\u001b[43m)\u001b[49m\n",
      "\u001b[36mFile \u001b[39m\u001b[32m~/.python/current/lib/python3.12/site-packages/mlflow/store/tracking/file_store.py:1366\u001b[39m, in \u001b[36mFileStore._read_yaml.<locals>._read_helper\u001b[39m\u001b[34m(root, file_name, attempts_remaining)\u001b[39m\n\u001b[32m   1365\u001b[39m \u001b[38;5;28;01mdef\u001b[39;00m\u001b[38;5;250m \u001b[39m\u001b[34m_read_helper\u001b[39m(root, file_name, attempts_remaining=\u001b[32m2\u001b[39m):\n\u001b[32m-> \u001b[39m\u001b[32m1366\u001b[39m     result = \u001b[43mread_yaml\u001b[49m\u001b[43m(\u001b[49m\u001b[43mroot\u001b[49m\u001b[43m,\u001b[49m\u001b[43m \u001b[49m\u001b[43mfile_name\u001b[49m\u001b[43m)\u001b[49m\n\u001b[32m   1367\u001b[39m     \u001b[38;5;28;01mif\u001b[39;00m result \u001b[38;5;129;01mis\u001b[39;00m \u001b[38;5;129;01mnot\u001b[39;00m \u001b[38;5;28;01mNone\u001b[39;00m \u001b[38;5;129;01mor\u001b[39;00m attempts_remaining == \u001b[32m0\u001b[39m:\n\u001b[32m   1368\u001b[39m         \u001b[38;5;28;01mreturn\u001b[39;00m result\n",
      "\u001b[36mFile \u001b[39m\u001b[32m~/.python/current/lib/python3.12/site-packages/mlflow/utils/file_utils.py:310\u001b[39m, in \u001b[36mread_yaml\u001b[39m\u001b[34m(root, file_name)\u001b[39m\n\u001b[32m    308\u001b[39m file_path = os.path.join(root, file_name)\n\u001b[32m    309\u001b[39m \u001b[38;5;28;01mif\u001b[39;00m \u001b[38;5;129;01mnot\u001b[39;00m exists(file_path):\n\u001b[32m--> \u001b[39m\u001b[32m310\u001b[39m     \u001b[38;5;28;01mraise\u001b[39;00m MissingConfigException(\u001b[33mf\u001b[39m\u001b[33m\"\u001b[39m\u001b[33mYaml file \u001b[39m\u001b[33m'\u001b[39m\u001b[38;5;132;01m{\u001b[39;00mfile_path\u001b[38;5;132;01m}\u001b[39;00m\u001b[33m'\u001b[39m\u001b[33m does not exist.\u001b[39m\u001b[33m\"\u001b[39m)\n\u001b[32m    311\u001b[39m \u001b[38;5;28;01mwith\u001b[39;00m codecs.open(file_path, mode=\u001b[33m\"\u001b[39m\u001b[33mr\u001b[39m\u001b[33m\"\u001b[39m, encoding=ENCODING) \u001b[38;5;28;01mas\u001b[39;00m yaml_file:\n\u001b[32m    312\u001b[39m     \u001b[38;5;28;01mreturn\u001b[39;00m yaml.load(yaml_file, Loader=YamlSafeLoader)\n",
      "\u001b[31mMissingConfigException\u001b[39m: Yaml file '/workspaces/mlops-zoomcamp/02-experiment tracking/mlruns/1/meta.yaml' does not exist."
     ]
    }
   ],
   "source": [
    "from sklearn.linear_model import LogisticRegression\n",
    "from sklearn.datasets import load_iris\n",
    "from sklearn.metrics import accuracy_score\n",
    "\n",
    "# we do not use sqlite: instead we use file system\n",
    "mlflow.set_experiment(\"scenario-1\")\n",
    "\n",
    "with mlflow.start_run():\n",
    "\n",
    "    X, y = load_iris(return_X_y=True)\n",
    "\n",
    "    params = {\"C\": 0.1, \"random_state\": 42}\n",
    "    mlflow.log_params(params)\n",
    "\n",
    "    lr = LogisticRegression(**params).fit(X, y)\n",
    "    y_pred = lr.predict(X)\n",
    "    mlflow.log_metric(\"accuracy\", accuracy_score(y, y_pred))\n",
    "\n",
    "    mlflow.sklearn.log_model(lr, artifact_path=\"models\")\n",
    "    print(f\"default artifacts URI: '{mlflow.get_artifact_uri()}'\")"
   ]
  },
  {
   "cell_type": "code",
   "execution_count": null,
   "id": "106fd4d4",
   "metadata": {},
   "outputs": [],
   "source": [
    "# mlflow.show_experiments()"
   ]
  },
  {
   "cell_type": "markdown",
   "id": "05409994",
   "metadata": {},
   "source": [
    "##### Interacting with the model registry"
   ]
  },
  {
   "cell_type": "code",
   "execution_count": null,
   "id": "3b4613dc",
   "metadata": {},
   "outputs": [],
   "source": [
    "from mlflow.tracking import MlflowClient\n",
    "\n",
    "\n",
    "client = MlflowClient()\n",
    "from mlflow.exceptions import MlflowException\n",
    "\n",
    "try:\n",
    "    client.list_registered_models()\n",
    "except MlflowException:\n",
    "    print(\"It's not possible to access the model registry :(\")"
   ]
  },
  {
   "cell_type": "code",
   "execution_count": null,
   "id": "7ab2b5db",
   "metadata": {},
   "outputs": [],
   "source": []
  },
  {
   "cell_type": "markdown",
   "id": "e765b135",
   "metadata": {},
   "source": [
    "## Scenario 2: A cross-functional team with one data scientist working on an ML model\n",
    "\n",
    "MLflow setup:\n",
    "\n",
    "- tracking server: yes, local server\n",
    "- backend store: sqlite database\n",
    "- artifacts store: local filesystem\n",
    "\n",
    "The experiments can be explored locally by accessing the local tracking server.\n",
    "\n",
    "To run this example you need to launch the mlflow server locally by running the following command in your terminal:\n",
    "\n",
    "`mlflow server --backend-store-uri sqlite:///backend.db`"
   ]
  },
  {
   "cell_type": "code",
   "execution_count": 19,
   "id": "b8b0fb54",
   "metadata": {},
   "outputs": [
    {
     "name": "stdout",
     "output_type": "stream",
     "text": [
      "tracking URI: 'http://127.0.0.1:5000'\n"
     ]
    }
   ],
   "source": [
    "import mlflow\n",
    "\n",
    "mlflow.set_tracking_uri(\"http://127.0.0.1:5000\")\n",
    "\n",
    "print(f\"tracking URI: '{mlflow.get_tracking_uri()}'\")"
   ]
  },
  {
   "cell_type": "code",
   "execution_count": 20,
   "id": "cdbba6ce",
   "metadata": {},
   "outputs": [
    {
     "data": {
      "text/plain": [
       "[<Experiment: artifact_location='mlflow-artifacts:/3', creation_time=1747376168695, experiment_id='3', last_update_time=1747376168695, lifecycle_stage='active', name='scenario-2', tags={}>,\n",
       " <Experiment: artifact_location='/workspaces/mlops-zoomcamp/02-experiment tracking/mlruns/1', creation_time=1747168400782, experiment_id='1', last_update_time=1747168400782, lifecycle_stage='active', name='nyc-taxi-experiment', tags={}>,\n",
       " <Experiment: artifact_location='/workspaces/mlops-zoomcamp/02-experiment tracking/mlruns/0', creation_time=1747168400778, experiment_id='0', last_update_time=1747168400778, lifecycle_stage='active', name='Default', tags={}>]"
      ]
     },
     "execution_count": 20,
     "metadata": {},
     "output_type": "execute_result"
    }
   ],
   "source": [
    "mlflow.search_experiments()"
   ]
  },
  {
   "cell_type": "code",
   "execution_count": null,
   "id": "ff007e1f",
   "metadata": {},
   "outputs": [],
   "source": []
  },
  {
   "cell_type": "code",
   "execution_count": 21,
   "id": "cd85679b",
   "metadata": {},
   "outputs": [
    {
     "name": "stderr",
     "output_type": "stream",
     "text": [
      "\u001b[31m2025/05/16 06:18:23 WARNING mlflow.models.model: Model logged without a signature and input example. Please set `input_example` parameter when logging the model to auto infer the model signature.\u001b[0m\n"
     ]
    },
    {
     "name": "stdout",
     "output_type": "stream",
     "text": [
      "default artifacts URI: 'mlflow-artifacts:/3/ad2298b4b2ae4be6af486bb34f7fca27/artifacts'\n",
      "🏃 View run bedecked-mare-138 at: http://127.0.0.1:5000/#/experiments/3/runs/ad2298b4b2ae4be6af486bb34f7fca27\n",
      "🧪 View experiment at: http://127.0.0.1:5000/#/experiments/3\n"
     ]
    }
   ],
   "source": [
    "from sklearn.linear_model import LogisticRegression\n",
    "from sklearn.datasets import load_iris\n",
    "from sklearn.metrics import accuracy_score\n",
    "\n",
    "mlflow.set_experiment(\"scenario-2\")\n",
    "# mlflow.set_tracking_uri(\"sqlite:///mlflow.db\")\n",
    "\n",
    "with mlflow.start_run():\n",
    "\n",
    "    X, y = load_iris(return_X_y=True)\n",
    "\n",
    "    params = {\"C\": 0.1, \"random_state\": 42}\n",
    "    mlflow.log_params(params)\n",
    "\n",
    "    lr = LogisticRegression(**params).fit(X, y)\n",
    "    y_pred = lr.predict(X)\n",
    "    mlflow.log_metric(\"accuracy\", accuracy_score(y, y_pred))\n",
    "\n",
    "    mlflow.sklearn.log_model(lr, artifact_path=\"models\")\n",
    "    print(f\"default artifacts URI: '{mlflow.get_artifact_uri()}'\")"
   ]
  },
  {
   "cell_type": "code",
   "execution_count": 22,
   "id": "07071790",
   "metadata": {},
   "outputs": [
    {
     "data": {
      "text/plain": [
       "[<Experiment: artifact_location='mlflow-artifacts:/3', creation_time=1747376168695, experiment_id='3', last_update_time=1747376168695, lifecycle_stage='active', name='scenario-2', tags={}>,\n",
       " <Experiment: artifact_location='/workspaces/mlops-zoomcamp/02-experiment tracking/mlruns/1', creation_time=1747168400782, experiment_id='1', last_update_time=1747168400782, lifecycle_stage='active', name='nyc-taxi-experiment', tags={}>,\n",
       " <Experiment: artifact_location='/workspaces/mlops-zoomcamp/02-experiment tracking/mlruns/0', creation_time=1747168400778, experiment_id='0', last_update_time=1747168400778, lifecycle_stage='active', name='Default', tags={}>]"
      ]
     },
     "execution_count": 22,
     "metadata": {},
     "output_type": "execute_result"
    }
   ],
   "source": [
    "mlflow.search_experiments()"
   ]
  },
  {
   "cell_type": "markdown",
   "id": "4ee08806",
   "metadata": {},
   "source": [
    "##### Interacting with the model registry"
   ]
  },
  {
   "cell_type": "code",
   "execution_count": 23,
   "id": "2e3e21f7",
   "metadata": {},
   "outputs": [],
   "source": [
    "from mlflow.tracking import MlflowClient\n",
    "\n",
    "\n",
    "client = MlflowClient(\"http://127.0.0.1:5000\")"
   ]
  },
  {
   "cell_type": "code",
   "execution_count": 24,
   "id": "683b68e2",
   "metadata": {},
   "outputs": [
    {
     "data": {
      "text/plain": [
       "[<RegisteredModel: aliases={}, creation_timestamp=1747334085049, description='', last_updated_timestamp=1747342848420, latest_versions=[<ModelVersion: aliases=[], creation_timestamp=1747334085074, current_stage='Production', description=None, last_updated_timestamp=1747342848420, name='nyc-taxi-regressor', run_id='65a7096112cb41b693e557e8008cfa9c', run_link='', source=('/workspaces/mlops-zoomcamp/02-experiment '\n",
       "  'tracking/mlruns/1/65a7096112cb41b693e557e8008cfa9c/artifacts/model'), status='READY', status_message=None, tags={'model': 'xgboost'}, user_id='', version='1'>,\n",
       "  <ModelVersion: aliases=[], creation_timestamp=1747334183102, current_stage='Archived', description='The model version 2 was transitioned to Production on 2025-05-15', last_updated_timestamp=1747342848420, name='nyc-taxi-regressor', run_id='4aa739211db94627b1744e36f4ee9664', run_link='', source=('/workspaces/mlops-zoomcamp/02-experiment '\n",
       "  'tracking/mlruns/1/4aa739211db94627b1744e36f4ee9664/artifacts/model'), status='READY', status_message=None, tags={'model': 'gradient boosting'}, user_id='', version='2'>], name='nyc-taxi-regressor', tags={}>]"
      ]
     },
     "execution_count": 24,
     "metadata": {},
     "output_type": "execute_result"
    }
   ],
   "source": [
    "client.search_registered_models()"
   ]
  },
  {
   "cell_type": "code",
   "execution_count": 45,
   "id": "80da6c5b",
   "metadata": {},
   "outputs": [
    {
     "name": "stdout",
     "output_type": "stream",
     "text": [
      "Run ID: ad2298b4b2ae4be6af486bb34f7fca27\n"
     ]
    }
   ],
   "source": [
    "# # Search runs in a specific experiment (by ID)\n",
    "runs = client.search_runs(\n",
    "    experiment_ids=[\"3\"],             # Can be a list of one or more experiment IDs\n",
    "    filter_string=\"\",                 # Optional: filter by metrics, params, etc.\n",
    "    order_by=[\"attributes.start_time DESC\"],  # Sort by most recent\n",
    "    max_results=5                     # Limit number of runs returned\n",
    ")\n",
    "\n",
    "# Print run IDs\n",
    "for run in runs:\n",
    "    print(f\"Run ID: {run.info.run_id}\")"
   ]
  },
  {
   "cell_type": "code",
   "execution_count": 46,
   "id": "d670a33c",
   "metadata": {},
   "outputs": [
    {
     "name": "stderr",
     "output_type": "stream",
     "text": [
      "Successfully registered model 'iris-classifier'.\n",
      "2025/05/16 06:27:06 INFO mlflow.store.model_registry.abstract_store: Waiting up to 300 seconds for model version to finish creation. Model name: iris-classifier, version 1\n",
      "Created version '1' of model 'iris-classifier'.\n"
     ]
    },
    {
     "data": {
      "text/plain": [
       "<ModelVersion: aliases=[], creation_timestamp=1747376826511, current_stage='None', description='', last_updated_timestamp=1747376826511, name='iris-classifier', run_id='ad2298b4b2ae4be6af486bb34f7fca27', run_link='', source='mlflow-artifacts:/3/ad2298b4b2ae4be6af486bb34f7fca27/artifacts/models', status='READY', status_message=None, tags={}, user_id='', version='1'>"
      ]
     },
     "execution_count": 46,
     "metadata": {},
     "output_type": "execute_result"
    }
   ],
   "source": [
    "run_id = 'ad2298b4b2ae4be6af486bb34f7fca27'\n",
    "mlflow.register_model(\n",
    "    model_uri=f\"runs:/{run_id}/models\",\n",
    "    name='iris-classifier'\n",
    ")"
   ]
  },
  {
   "cell_type": "code",
   "execution_count": null,
   "id": "48d77fb6",
   "metadata": {},
   "outputs": [],
   "source": []
  },
  {
   "cell_type": "markdown",
   "id": "939560fc",
   "metadata": {},
   "source": [
    "## Scenario 3: Multiple data scientists working on multiple ML models\n",
    "\n",
    "MLflow setup:\n",
    "\n",
    "- Tracking server: yes, remote server (EC2).\n",
    "- Backend store: postgresql database.\n",
    "- Artifacts store: s3 bucket.\n",
    "\n",
    "The experiments can be explored by accessing the remote server.\n",
    "\n",
    "The example uses AWS to host a remote server. In order to run the example you'll need an AWS account. Follow the steps described in the file `mlflow_on_aws.md` to create a new AWS account and launch the tracking server."
   ]
  },
  {
   "cell_type": "code",
   "execution_count": null,
   "id": "417dada2",
   "metadata": {},
   "outputs": [],
   "source": [
    "import mlflow\n",
    "from azureml.core import Workspace\n",
    "from azureml.core.authentication import InteractiveLoginAuthentication\n",
    "from sklearn.linear_model import LogisticRegression\n",
    "from sklearn.datasets import load_iris\n",
    "from sklearn.metrics import accuracy_score\n",
    "from mlflow.tracking import MlflowClient\n"
   ]
  },
  {
   "cell_type": "code",
   "execution_count": null,
   "id": "79f99fa5",
   "metadata": {},
   "outputs": [],
   "source": [
    "# 1. Authenticate to Azure\n",
    "interactive_auth = InteractiveLoginAuthentication()\n",
    "\n",
    "# 2. Connect to your Azure ML Workspace\n",
    "ws = Workspace(\n",
    "    subscription_id=\"your-subscription-id\",\n",
    "    resource_group=\"your-resource-group\",\n",
    "    workspace_name=\"your-workspace-name\",\n",
    "    auth=interactive_auth\n",
    ")\n",
    "\n",
    "# 3. Set the MLflow tracking URI to Azure ML\n",
    "mlflow.set_tracking_uri(ws.get_mlflow_tracking_uri())\n",
    "print(f\"Tracking URI: {mlflow.get_tracking_uri()}\")\n"
   ]
  },
  {
   "cell_type": "code",
   "execution_count": null,
   "id": "c37df47e",
   "metadata": {},
   "outputs": [],
   "source": [
    "# 4. Set experiment\n",
    "mlflow.set_experiment(\"my-experiment-1\")\n",
    "\n",
    "# 5. Train and log a model\n",
    "with mlflow.start_run() as run:\n",
    "    X, y = load_iris(return_X_y=True)\n",
    "\n",
    "    params = {\"C\": 0.1, \"random_state\": 42}\n",
    "    mlflow.log_params(params)\n",
    "\n",
    "    lr = LogisticRegression(**params).fit(X, y)\n",
    "    y_pred = lr.predict(X)\n",
    "    mlflow.log_metric(\"accuracy\", accuracy_score(y, y_pred))\n",
    "\n",
    "    # Log model to MLflow\n",
    "    mlflow.sklearn.log_model(lr, artifact_path=\"models\")\n",
    "    print(f\"Artifacts URI: {mlflow.get_artifact_uri()}\")\n",
    "\n",
    "    run_id = run.info.run_id"
   ]
  },
  {
   "cell_type": "code",
   "execution_count": null,
   "id": "343cff30",
   "metadata": {},
   "outputs": [],
   "source": [
    "# 6. Register the model in Azure ML Model Registry\n",
    "result = mlflow.register_model(\n",
    "    model_uri=f\"runs:/{run_id}/models\",\n",
    "    name=\"iris-classifier\"\n",
    ")"
   ]
  },
  {
   "cell_type": "code",
   "execution_count": null,
   "id": "349add3f",
   "metadata": {},
   "outputs": [],
   "source": [
    "# 7. (Optional) Transition the model to \"Production\"\n",
    "client = MlflowClient()\n",
    "client.transition_model_version_stage(\n",
    "    name=\"iris-classifier\",\n",
    "    version=result.version,\n",
    "    stage=\"Production\",\n",
    "    archive_existing_versions=True\n",
    ")\n",
    "\n",
    "print(f\"Model 'iris-classifier' version {result.version} is now in Production.\")"
   ]
  },
  {
   "cell_type": "code",
   "execution_count": null,
   "id": "c97315d1",
   "metadata": {},
   "outputs": [],
   "source": []
  },
  {
   "cell_type": "code",
   "execution_count": null,
   "id": "e1e8e54f",
   "metadata": {},
   "outputs": [],
   "source": []
  }
 ],
 "metadata": {
  "kernelspec": {
   "display_name": "Python 3",
   "language": "python",
   "name": "python3"
  },
  "language_info": {
   "codemirror_mode": {
    "name": "ipython",
    "version": 3
   },
   "file_extension": ".py",
   "mimetype": "text/x-python",
   "name": "python",
   "nbconvert_exporter": "python",
   "pygments_lexer": "ipython3",
   "version": "3.12.1"
  }
 },
 "nbformat": 4,
 "nbformat_minor": 5
}
